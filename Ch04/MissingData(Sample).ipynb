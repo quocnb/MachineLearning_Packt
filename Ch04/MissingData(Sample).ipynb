{
 "cells": [
  {
   "cell_type": "code",
   "execution_count": null,
   "metadata": {
    "collapsed": true
   },
   "outputs": [],
   "source": [
    "import pandas as pd\n",
    "from io import StringIO\n",
    "from sklearn.preprocessing import Imputer"
   ]
  },
  {
   "cell_type": "code",
   "execution_count": null,
   "metadata": {},
   "outputs": [
    {
     "name": "stdout",
     "output_type": "stream",
     "text": [
      "      A     B     C    D\n0   1.0   2.0   3.0  4.0\n1   5.0   6.0   NaN  8.0\n2  10.0  11.0  12.0  NaN\n"
     ]
    }
   ],
   "source": [
    "csv_data = '''A,B,C,D\n",
    "1.0,2.0,3.0,4.0\n",
    "5.0,6.0,,8.0\n",
    "10.0,11.0,12.0,'''\n",
    "df = pd.read_csv(StringIO(csv_data))\n",
    "print(df)"
   ]
  },
  {
   "cell_type": "code",
   "execution_count": 3,
   "metadata": {},
   "outputs": [
    {
     "name": "stdout",
     "output_type": "stream",
     "text": [
      "Check null\nA    0\nB    0\nC    1\nD    1\ndtype: int64\nConvert to numpy array\n[[  1.   2.   3.   4.]\n [  5.   6.  nan   8.]\n [ 10.  11.  12.  nan]]\nDrop NaN\n     A    B    C    D\n0  1.0  2.0  3.0  4.0\nDrop NaN at axis = 1\n      A     B\n0   1.0   2.0\n1   5.0   6.0\n2  10.0  11.0\nonly drop rows where all columns are NaN\n      A     B     C    D\n0   1.0   2.0   3.0  4.0\n1   5.0   6.0   NaN  8.0\n2  10.0  11.0  12.0  NaN\ndrop rows that have not at least 4 non-NaN values\n     A    B    C    D\n0  1.0  2.0  3.0  4.0\nonly drop rows where NaN appear in specific columns (here: \"C\")\n      A     B     C    D\n0   1.0   2.0   3.0  4.0\n2  10.0  11.0  12.0  NaN\n"
     ]
    }
   ],
   "source": [
    "print('Check null')\n",
    "print(df.isnull().sum())\n",
    "print('Convert to numpy array')\n",
    "print(df.values)\n",
    "\n",
    "print('Drop NaN')\n",
    "print(df.dropna())\n",
    "\n",
    "print('Drop NaN at axis = 1')\n",
    "print(df.dropna(axis=1))\n",
    "\n",
    "print('only drop rows where all columns are NaN')\n",
    "print(df.dropna(how='all'))\n",
    "\n",
    "print('drop rows that have not at least 4 non-NaN values')\n",
    "print(df.dropna(thresh=4))\n",
    "\n",
    "print('only drop rows where NaN appear in specific columns (here: \"C\")')\n",
    "print(df.dropna(subset=['C']))"
   ]
  },
  {
   "cell_type": "code",
   "execution_count": 5,
   "metadata": {},
   "outputs": [
    {
     "data": {
      "text/plain": [
       "array([[  1. ,   2. ,   3. ,   4. ],\n       [  5. ,   6. ,   7.5,   8. ],\n       [ 10. ,  11. ,  12. ,   6. ]])"
      ]
     },
     "execution_count": 5,
     "metadata": {},
     "output_type": "execute_result"
    }
   ],
   "source": [
    "# Imputing missing value\n",
    "imr = Imputer(missing_values='NaN', strategy='mean')\n",
    "imr = imr.fit(df)\n",
    "imputed_data = imr.transform(df.values)\n",
    "imputed_data"
   ]
  },
  {
   "cell_type": "code",
   "execution_count": null,
   "metadata": {},
   "outputs": [],
   "source": []
  }
 ],
 "metadata": {
  "kernelspec": {
   "display_name": "Python 2",
   "language": "python",
   "name": "python2"
  },
  "language_info": {
   "codemirror_mode": {
    "name": "ipython",
    "version": 2
   },
   "file_extension": ".py",
   "mimetype": "text/x-python",
   "name": "python",
   "nbconvert_exporter": "python",
   "pygments_lexer": "ipython2",
   "version": "2.7.6"
  }
 },
 "nbformat": 4,
 "nbformat_minor": 0
}
